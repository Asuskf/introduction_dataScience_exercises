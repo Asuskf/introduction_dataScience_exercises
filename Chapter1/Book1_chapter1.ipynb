{
  "nbformat": 4,
  "nbformat_minor": 0,
  "metadata": {
    "colab": {
      "name": "chapter1.ipynb",
      "provenance": [],
      "authorship_tag": "ABX9TyMXlybBwDFA+LUE52T9qBFC",
      "include_colab_link": true
    },
    "kernelspec": {
      "name": "python3",
      "display_name": "Python 3"
    },
    "language_info": {
      "name": "python"
    }
  },
  "cells": [
    {
      "cell_type": "markdown",
      "metadata": {
        "id": "view-in-github",
        "colab_type": "text"
      },
      "source": [
        "<a href=\"https://colab.research.google.com/github/Asuskf/introduction_dataScience_exercises/blob/main/Chapter1/chapter1.ipynb\" target=\"_parent\"><img src=\"https://colab.research.google.com/assets/colab-badge.svg\" alt=\"Open In Colab\"/></a>"
      ]
    },
    {
      "cell_type": "markdown",
      "source": [
        "#Books:\n",
        "\n",
        "\n",
        "\n",
        "*   **Book1** = [Data Science from Scratch SECOND EDITION First Principles with Python by Joel Gru](https://www.amazon.es/Data-Science-Scratch-Principles-Python/dp/1492041130?__mk_es_ES=%C3%85M%C3%85%C5%BD%C3%95%C3%91&dchild=1&keywords=data+science&qid=1624268665&sr=8-8&linkCode=sl1&tag=oscarfmdc01-21&linkId=b701f61cbe8ee01459bd2b91d1b5ba33&language=es_ES&ref_=as_li_ss_tl)\n",
        "\n",
        "*   **Book2** = [Introducing Data Science Big data, machine learning, and more, using Python by Davy Cielen, Arno D. B. Meysman](https://www.amazon.com/-/es/Davy-Cielen/dp/1633430030)\n",
        "\n",
        "Link repo: https://github.com/Asuskf/introduction_dataScience_exercises"
      ],
      "metadata": {
        "id": "m4yxtdv2McWa"
      }
    },
    {
      "cell_type": "markdown",
      "source": [
        "## Book1 - exercise 1 part1"
      ],
      "metadata": {
        "id": "7yqqDr1TRJtr"
      }
    },
    {
      "cell_type": "code",
      "execution_count": 113,
      "metadata": {
        "id": "tIpJkgruMacM"
      },
      "outputs": [],
      "source": [
        "users = [\n",
        "{ \"id\": 0, \"name\": \"Hero\" },\n",
        "{ \"id\": 1, \"name\": \"Dunn\" },\n",
        "{ \"id\": 2, \"name\": \"Sue\" },\n",
        "{ \"id\": 3, \"name\": \"Chi\" },\n",
        "{ \"id\": 4, \"name\": \"Thor\" },\n",
        "{ \"id\": 5, \"name\": \"Clive\" },\n",
        "{ \"id\": 6, \"name\": \"Hicks\" },\n",
        "{ \"id\": 7, \"name\": \"Devin\" },\n",
        "{ \"id\": 8, \"name\": \"Kate\" },\n",
        "{ \"id\": 9, \"name\": \"Klein\" },\n",
        "]\n",
        "\n",
        "#Friendship\n",
        "friendship_pairs = [(0, 1), (0, 2), (1, 2), (1, 3), (2, 3), (3, 4),\n",
        "(4, 5), (5, 6), (5, 7), (6, 8), (7, 8), (8, 9)]"
      ]
    },
    {
      "cell_type": "code",
      "source": [
        "friendships = {user[\"id\"]: [] for user in users}\n",
        "for i, j in friendship_pairs:\n",
        "    friendships[i].append(j) # Add j as a friend of user i\n",
        "    friendships[j].append(i) # Add i as a friend of user j"
      ],
      "metadata": {
        "id": "wTPUHznjg4Bh"
      },
      "execution_count": 114,
      "outputs": []
    },
    {
      "cell_type": "code",
      "source": [
        "#What’s the average number of connections?\n",
        "#Book solution\n",
        "## We find the total number of connections, by summing up the lengths of all the friends lists:\n",
        "def number_of_friends(user):\n",
        "    \"\"\"How many friends does _user_ have?\"\"\"\n",
        "    user_id = user[\"id\"]\n",
        "    friend_ids = friendships[user_id]\n",
        "    return len(friend_ids)\n",
        "\n",
        "total_connections = sum(number_of_friends(user) for user in users)"
      ],
      "metadata": {
        "id": "8ajB1TbgOWX-"
      },
      "execution_count": 115,
      "outputs": []
    },
    {
      "cell_type": "code",
      "source": [
        "#And then we just divide by the number of users:\n",
        "num_users = len(friendships) # length of the users list\n",
        "avg_connections = total_connections / num_users  "
      ],
      "metadata": {
        "id": "eNwuEd6yrtZQ"
      },
      "execution_count": 116,
      "outputs": []
    },
    {
      "cell_type": "code",
      "source": [
        "len(friendships)"
      ],
      "metadata": {
        "colab": {
          "base_uri": "https://localhost:8080/"
        },
        "id": "Qft5jNZXinjr",
        "outputId": "7a81aea8-ffb1-4f4d-9f83-638cc8b3e8a6"
      },
      "execution_count": 117,
      "outputs": [
        {
          "output_type": "execute_result",
          "data": {
            "text/plain": [
              "10"
            ]
          },
          "metadata": {},
          "execution_count": 117
        }
      ]
    },
    {
      "cell_type": "code",
      "source": [
        "#My solution\n",
        "#And then we just divide by the number of users:\n",
        "num_users = len(friendships) # length of the users list\n",
        "sum(len(friendships[user]) for user in friendships) / num_users"
      ],
      "metadata": {
        "colab": {
          "base_uri": "https://localhost:8080/"
        },
        "id": "VIuFNQDOrZ0k",
        "outputId": "8c8e5a91-bae0-4203-e3ec-e358204de9c3"
      },
      "execution_count": 118,
      "outputs": [
        {
          "output_type": "execute_result",
          "data": {
            "text/plain": [
              "2.4"
            ]
          },
          "metadata": {},
          "execution_count": 118
        }
      ]
    },
    {
      "cell_type": "code",
      "source": [
        "friendships"
      ],
      "metadata": {
        "id": "wbXwUQ-LvefG",
        "outputId": "9f13dda8-addf-41f3-a535-196b42d69031",
        "colab": {
          "base_uri": "https://localhost:8080/"
        }
      },
      "execution_count": 119,
      "outputs": [
        {
          "output_type": "execute_result",
          "data": {
            "text/plain": [
              "{0: [1, 2],\n",
              " 1: [0, 2, 3],\n",
              " 2: [0, 1, 3],\n",
              " 3: [1, 2, 4],\n",
              " 4: [3, 5],\n",
              " 5: [4, 6, 7],\n",
              " 6: [5, 8],\n",
              " 7: [5, 8],\n",
              " 8: [6, 7, 9],\n",
              " 9: [8]}"
            ]
          },
          "metadata": {},
          "execution_count": 119
        }
      ]
    },
    {
      "cell_type": "code",
      "source": [
        "#Verification\n",
        "total_connections == sum(len(friendships[user]) for user in friendships)"
      ],
      "metadata": {
        "colab": {
          "base_uri": "https://localhost:8080/"
        },
        "id": "psVxrNW6rk4C",
        "outputId": "aa5db30a-ea52-4034-d186-53ef7dec4016"
      },
      "execution_count": 120,
      "outputs": [
        {
          "output_type": "execute_result",
          "data": {
            "text/plain": [
              "True"
            ]
          },
          "metadata": {},
          "execution_count": 120
        }
      ]
    },
    {
      "cell_type": "code",
      "source": [
        "#Order them from \"most friends ”to“ less friends ”:\n",
        "# Create a list (user_id, number_of_friends).\n",
        "num_friends_by_id = [(user[\"id\"], number_of_friends(user)) for user in users]"
      ],
      "metadata": {
        "id": "Dc7hhL0fseEV"
      },
      "execution_count": 121,
      "outputs": []
    },
    {
      "cell_type": "code",
      "source": [
        "num_friends_by_id"
      ],
      "metadata": {
        "colab": {
          "base_uri": "https://localhost:8080/"
        },
        "id": "mu3dOxPMqjcG",
        "outputId": "197e708f-77cd-4776-a12e-c7f0fc4e2747"
      },
      "execution_count": 122,
      "outputs": [
        {
          "output_type": "execute_result",
          "data": {
            "text/plain": [
              "[(0, 2),\n",
              " (1, 3),\n",
              " (2, 3),\n",
              " (3, 3),\n",
              " (4, 2),\n",
              " (5, 3),\n",
              " (6, 2),\n",
              " (7, 2),\n",
              " (8, 3),\n",
              " (9, 1)]"
            ]
          },
          "metadata": {},
          "execution_count": 122
        }
      ]
    },
    {
      "cell_type": "code",
      "source": [
        "#My solution\n",
        "[(user, len(friendships[user])) for user in friendships]"
      ],
      "metadata": {
        "colab": {
          "base_uri": "https://localhost:8080/"
        },
        "id": "JT8i4tr38gK0",
        "outputId": "01e474f2-a391-41e2-c439-9b6f0486aa0f"
      },
      "execution_count": 123,
      "outputs": [
        {
          "output_type": "execute_result",
          "data": {
            "text/plain": [
              "[(0, 2),\n",
              " (1, 3),\n",
              " (2, 3),\n",
              " (3, 3),\n",
              " (4, 2),\n",
              " (5, 3),\n",
              " (6, 2),\n",
              " (7, 2),\n",
              " (8, 3),\n",
              " (9, 1)]"
            ]
          },
          "metadata": {},
          "execution_count": 123
        }
      ]
    },
    {
      "cell_type": "code",
      "source": [
        "#Verification\n",
        "num_friends_by_id == [(user, len(friendships[user])) for user in friendships]"
      ],
      "metadata": {
        "colab": {
          "base_uri": "https://localhost:8080/"
        },
        "id": "lePj7McR89b4",
        "outputId": "f278b1d8-7450-43b5-e204-5ed84fdf14c0"
      },
      "execution_count": 124,
      "outputs": [
        {
          "output_type": "execute_result",
          "data": {
            "text/plain": [
              "True"
            ]
          },
          "metadata": {},
          "execution_count": 124
        }
      ]
    },
    {
      "cell_type": "code",
      "source": [
        "#Book solution\n",
        "num_friends_by_id.sort(# Sort the list\n",
        "    key=lambda id_and_friends: id_and_friends[1],# by num_friends\n",
        "    reverse=False)# largest to smallest"
      ],
      "metadata": {
        "id": "pmb7YsAKtpaH"
      },
      "execution_count": 125,
      "outputs": []
    },
    {
      "cell_type": "code",
      "source": [
        "num_friends_by_id"
      ],
      "metadata": {
        "colab": {
          "base_uri": "https://localhost:8080/"
        },
        "id": "ZtmkQN5B6lWY",
        "outputId": "c82e6942-42d0-4648-c511-d4adab491a4d"
      },
      "execution_count": 126,
      "outputs": [
        {
          "output_type": "execute_result",
          "data": {
            "text/plain": [
              "[(9, 1),\n",
              " (0, 2),\n",
              " (4, 2),\n",
              " (6, 2),\n",
              " (7, 2),\n",
              " (1, 3),\n",
              " (2, 3),\n",
              " (3, 3),\n",
              " (5, 3),\n",
              " (8, 3)]"
            ]
          },
          "metadata": {},
          "execution_count": 126
        }
      ]
    },
    {
      "cell_type": "markdown",
      "source": [
        "## Book1 - exercise 1 part2\n",
        "Friends you may know\n"
      ],
      "metadata": {
        "id": "-8wzPoF469-j"
      }
    },
    {
      "cell_type": "code",
      "source": [
        "from collections import Counter # not loaded by default"
      ],
      "metadata": {
        "id": "hfBSpYP1aJ-j"
      },
      "execution_count": 129,
      "outputs": []
    },
    {
      "cell_type": "code",
      "source": [
        "# Bad alternative\n",
        "def foaf_ids_bad(user):\n",
        "    \"\"\"foaf is short for \"friend of a friend\" \"\"\"\n",
        "    return [foaf_id\n",
        "            for friend_id in friendships[user[\"id\"]]\n",
        "            for foaf_id in friendships[friend_id]]\n"
      ],
      "metadata": {
        "id": "gA_ERCHTrM5z"
      },
      "execution_count": 130,
      "outputs": []
    },
    {
      "cell_type": "code",
      "source": [
        "foaf_ids_bad(users[3]) #repeat friend and my id"
      ],
      "metadata": {
        "colab": {
          "base_uri": "https://localhost:8080/"
        },
        "id": "gs-Fe66KHeY8",
        "outputId": "d8b19390-e78c-4e66-80a8-6e76a202299c"
      },
      "execution_count": 131,
      "outputs": [
        {
          "output_type": "execute_result",
          "data": {
            "text/plain": [
              "[0, 2, 3, 0, 1, 3, 3, 5]"
            ]
          },
          "metadata": {},
          "execution_count": 131
        }
      ]
    },
    {
      "cell_type": "code",
      "source": [
        "def friends_of_friends(user):\n",
        "    user_id = user[\"id\"]\n",
        "    return Counter(\n",
        "        foaf_id\n",
        "        for friend_id in friendships[user_id] # For each of my friends,\n",
        "        for foaf_id in friendships[friend_id] # find their friends\n",
        "        if foaf_id != user_id # who aren't me\n",
        "        and foaf_id not in friendships[user_id] # and aren't my friends.\n",
        "        )\n",
        "print(friends_of_friends(users[3])) "
      ],
      "metadata": {
        "colab": {
          "base_uri": "https://localhost:8080/"
        },
        "id": "9f279rQB9r8x",
        "outputId": "c95db238-09ee-439b-94f6-5266d946c0f8"
      },
      "execution_count": 132,
      "outputs": [
        {
          "output_type": "stream",
          "name": "stdout",
          "text": [
            "Counter({0: 2, 5: 1})\n"
          ]
        }
      ]
    },
    {
      "cell_type": "code",
      "source": [
        "print(friends_of_friends(users[3])) # Counter({0: 2, 5: 1})"
      ],
      "metadata": {
        "colab": {
          "base_uri": "https://localhost:8080/"
        },
        "id": "sKEDpZQl-Tj5",
        "outputId": "c677459d-16ff-4612-87a9-1ab423773c53"
      },
      "execution_count": 133,
      "outputs": [
        {
          "output_type": "stream",
          "name": "stdout",
          "text": [
            "Counter({0: 2, 5: 1})\n"
          ]
        }
      ]
    },
    {
      "cell_type": "code",
      "source": [
        "#Add improvement\n",
        "def friends_of_friends2(user):\n",
        "    user_id = user[\"id\"]\n",
        "    myFriend = friendships[user_id]\n",
        "    return Counter(\n",
        "        foaf_id\n",
        "        for friend_id in  myFriend# For each of my friends,\n",
        "        for foaf_id in friendships[friend_id] # find their friends\n",
        "        if foaf_id != user_id # who aren't me\n",
        "        and foaf_id not in myFriend # and aren't my friends.\n",
        "        )"
      ],
      "metadata": {
        "id": "f6X-qmwXAkWq"
      },
      "execution_count": 134,
      "outputs": []
    },
    {
      "cell_type": "code",
      "source": [
        "print(friends_of_friends2(users[3])) # Counter({0: 2, 5: 1})"
      ],
      "metadata": {
        "colab": {
          "base_uri": "https://localhost:8080/"
        },
        "id": "xnaLZGZwGBB8",
        "outputId": "c9ba9c6b-84e9-43a6-bbbf-98a5cbd3104f"
      },
      "execution_count": 135,
      "outputs": [
        {
          "output_type": "stream",
          "name": "stdout",
          "text": [
            "Counter({0: 2, 5: 1})\n"
          ]
        }
      ]
    },
    {
      "cell_type": "markdown",
      "source": [
        "## Book1 - exercise 1 part3\n",
        "Users with similar interests"
      ],
      "metadata": {
        "id": "9qvwUuYiIOj7"
      }
    },
    {
      "cell_type": "code",
      "source": [
        "interests = [\n",
        "(0, \"Hadoop\"), (0, \"Big Data\"), (0, \"HBase\"), (0, \"Java\"),\n",
        "(0, \"Spark\"), (0, \"Storm\"), (0, \"Cassandra\"),\n",
        "(1, \"NoSQL\"), (1, \"MongoDB\"), (1, \"Cassandra\"), (1, \"HBase\"),\n",
        "(1, \"Postgres\"), (2, \"Python\"), (2, \"scikit-learn\"), (2, \"scipy\"),\n",
        "(2, \"numpy\"), (2, \"statsmodels\"), (2, \"pandas\"), (3, \"R\"), (3, \"Python\"),\n",
        "(3, \"statistics\"), (3, \"regression\"), (3, \"probability\"),\n",
        "(4, \"machine learning\"), (4, \"regression\"), (4, \"decision trees\"),\n",
        "(4, \"libsvm\"), (5, \"Python\"), (5, \"R\"), (5, \"Java\"), (5, \"C++\"),\n",
        "(5, \"Haskell\"), (5, \"programming languages\"), (6, \"statistics\"),\n",
        "(6, \"probability\"), (6, \"mathematics\"), (6, \"theory\"),\n",
        "(7, \"machine learning\"), (7, \"scikit-learn\"), (7, \"Mahout\"),\n",
        "(7, \"neural networks\"), (8, \"neural networks\"), (8, \"deep learning\"),\n",
        "(8, \"Big Data\"), (8, \"artificial intelligence\"), (9, \"Hadoop\"),\n",
        "(9, \"Java\"), (9, \"MapReduce\"), (9, \"Big Data\")\n",
        "]\n"
      ],
      "metadata": {
        "id": "lNrlSrFtbX5n"
      },
      "execution_count": 7,
      "outputs": []
    },
    {
      "cell_type": "code",
      "source": [
        "def data_scientists_who_like(target_interest):\n",
        "    \"\"\"Find the ids of all users who like the target interest.\"\"\"\n",
        "    return [user_id\n",
        "            for user_id, user_interest in interests\n",
        "            if user_interest == target_interest]"
      ],
      "metadata": {
        "id": "Iyan4_huIbYz"
      },
      "execution_count": 166,
      "outputs": []
    },
    {
      "cell_type": "code",
      "source": [
        "data_scientists_who_like('Java')"
      ],
      "metadata": {
        "colab": {
          "base_uri": "https://localhost:8080/"
        },
        "id": "mI8DDINWO5Tn",
        "outputId": "d26470d6-dbc4-4ecf-9289-99647378e4bb"
      },
      "execution_count": 169,
      "outputs": [
        {
          "output_type": "execute_result",
          "data": {
            "text/plain": [
              "[0, 5, 9]"
            ]
          },
          "metadata": {},
          "execution_count": 169
        }
      ]
    },
    {
      "cell_type": "code",
      "source": [
        "from collections import defaultdict\n",
        "# Keys are interests, values are lists of user_ids with that interest\n",
        "user_ids_by_interest = defaultdict(list)\n",
        "\n",
        "for user_id, interest in interests:\n",
        "    user_ids_by_interest[interest].append(user_id)\n",
        "\n",
        "user_ids_by_interest['Java']"
      ],
      "metadata": {
        "id": "dGUOMj-qIii7",
        "colab": {
          "base_uri": "https://localhost:8080/"
        },
        "outputId": "d091b163-b9c5-4106-e054-ceef65926fc0"
      },
      "execution_count": 170,
      "outputs": [
        {
          "output_type": "execute_result",
          "data": {
            "text/plain": [
              "[0, 5, 9]"
            ]
          },
          "metadata": {},
          "execution_count": 170
        }
      ]
    },
    {
      "cell_type": "code",
      "source": [
        "#My solution\n",
        "newDict  = {}\n",
        "for key, value in interests:\n",
        "    newDict.setdefault(value, []).append(key)\n",
        "newDict['Java']"
      ],
      "metadata": {
        "colab": {
          "base_uri": "https://localhost:8080/"
        },
        "id": "RDs1Y96-T5bP",
        "outputId": "cf1ee78f-06a0-4c41-8e3d-1ce57e7e72de"
      },
      "execution_count": 172,
      "outputs": [
        {
          "output_type": "execute_result",
          "data": {
            "text/plain": [
              "[0, 5, 9]"
            ]
          },
          "metadata": {},
          "execution_count": 172
        }
      ]
    },
    {
      "cell_type": "code",
      "source": [
        "# Keys are user_ids, values are lists of interests for that user_id.\n",
        "interests_by_user_id = defaultdict(list)\n",
        "for user_id, interest in interests:\n",
        "    interests_by_user_id[user_id].append(interest)"
      ],
      "metadata": {
        "id": "vH6hOgRNIzhb"
      },
      "execution_count": 173,
      "outputs": []
    },
    {
      "cell_type": "code",
      "source": [
        "interests_by_user_id[1]"
      ],
      "metadata": {
        "colab": {
          "base_uri": "https://localhost:8080/"
        },
        "id": "r1nD3dmOI7Oi",
        "outputId": "de8a224f-27e6-4af7-f9bb-6078a35cdda9"
      },
      "execution_count": 176,
      "outputs": [
        {
          "output_type": "execute_result",
          "data": {
            "text/plain": [
              "['NoSQL', 'MongoDB', 'Cassandra', 'HBase', 'Postgres']"
            ]
          },
          "metadata": {},
          "execution_count": 176
        }
      ]
    },
    {
      "cell_type": "code",
      "source": [
        "#My solution\n",
        "newDict  = {}\n",
        "for key, value in interests:\n",
        "    newDict.setdefault(key, []).append(value)"
      ],
      "metadata": {
        "id": "lEWv2VojO0tA"
      },
      "execution_count": 178,
      "outputs": []
    },
    {
      "cell_type": "code",
      "source": [
        "newDict[1]"
      ],
      "metadata": {
        "colab": {
          "base_uri": "https://localhost:8080/"
        },
        "id": "Mip8KDYVO4rv",
        "outputId": "432ac33d-9f1b-49cc-d209-f208c4deaf31"
      },
      "execution_count": 179,
      "outputs": [
        {
          "output_type": "execute_result",
          "data": {
            "text/plain": [
              "['NoSQL', 'MongoDB', 'Cassandra', 'HBase', 'Postgres']"
            ]
          },
          "metadata": {},
          "execution_count": 179
        }
      ]
    },
    {
      "cell_type": "markdown",
      "source": [
        "## Medir el tiempo de ejecución y el uso de memoria"
      ],
      "metadata": {
        "id": "JRgJhPnkWW2N"
      }
    },
    {
      "cell_type": "code",
      "source": [
        "import sys\n",
        "import time\n",
        "#Option 1\n",
        "inicio = time.time()\n",
        "print(sys.getsizeof(data_scientists_who_like('Hadoop')))  \n",
        "fin = time.time()\n",
        "print(fin-inicio)"
      ],
      "metadata": {
        "colab": {
          "base_uri": "https://localhost:8080/"
        },
        "id": "2JES4AAJWKuT",
        "outputId": "46183bc1-436e-4034-e2b9-b71b470ef543"
      },
      "execution_count": 98,
      "outputs": [
        {
          "output_type": "stream",
          "name": "stdout",
          "text": [
            "104\n",
            "0.0006208419799804688\n"
          ]
        }
      ]
    },
    {
      "cell_type": "code",
      "source": [
        "#Option 2\n",
        "def opt2():   \n",
        "    inicio = time.time() \n",
        "    user_ids_by_interest = defaultdict(list)\n",
        "\n",
        "    for user_id, interest in interests:\n",
        "        user_ids_by_interest[interest].append(user_id)\n",
        "    user_ids_by_interest['Hadoop']\n",
        "    fin = time.time()\n",
        "    print(fin-inicio)\n"
      ],
      "metadata": {
        "id": "dlxrnzyJUcLh"
      },
      "execution_count": 99,
      "outputs": []
    },
    {
      "cell_type": "code",
      "source": [
        "sys.getsizeof(opt2())"
      ],
      "metadata": {
        "colab": {
          "base_uri": "https://localhost:8080/"
        },
        "id": "cgv0R6vJWwvR",
        "outputId": "c7943d85-2f8d-4e87-a3a5-e99954958fd4"
      },
      "execution_count": 100,
      "outputs": [
        {
          "output_type": "stream",
          "name": "stdout",
          "text": [
            "3.0994415283203125e-05\n"
          ]
        },
        {
          "output_type": "execute_result",
          "data": {
            "text/plain": [
              "16"
            ]
          },
          "metadata": {},
          "execution_count": 100
        }
      ]
    },
    {
      "cell_type": "code",
      "source": [
        "#Option 3\n",
        "def opt3():    \n",
        "    inicio = time.time() \n",
        "    newDict  = {}\n",
        "    for key, value in interests:\n",
        "        newDict.setdefault(value, []).append(key)\n",
        "    newDict['Hadoop']\n",
        "    fin = time.time()\n",
        "    print(fin-inicio)"
      ],
      "metadata": {
        "id": "4dltqel8W3cB"
      },
      "execution_count": 101,
      "outputs": []
    },
    {
      "cell_type": "code",
      "source": [
        "sys.getsizeof(opt3())"
      ],
      "metadata": {
        "colab": {
          "base_uri": "https://localhost:8080/"
        },
        "id": "u0hwbOBGXN1q",
        "outputId": "37220884-8eac-496c-a5d7-4d30a0b6990a"
      },
      "execution_count": 102,
      "outputs": [
        {
          "output_type": "stream",
          "name": "stdout",
          "text": [
            "2.8133392333984375e-05\n"
          ]
        },
        {
          "output_type": "execute_result",
          "data": {
            "text/plain": [
              "16"
            ]
          },
          "metadata": {},
          "execution_count": 102
        }
      ]
    },
    {
      "cell_type": "code",
      "source": [
        "def most_common_interests_with(user):\n",
        "    return Counter(\n",
        "        interested_user_id\n",
        "        for interest in interests_by_user_id[user[\"id\"]]\n",
        "        for interested_user_id in user_ids_by_interest[interest]\n",
        "        if interested_user_id != user[\"id\"]\n",
        "        )"
      ],
      "metadata": {
        "id": "LYWFaNQvXPRB"
      },
      "execution_count": 180,
      "outputs": []
    },
    {
      "cell_type": "code",
      "source": [
        "most_common_interests_with(users[2])"
      ],
      "metadata": {
        "colab": {
          "base_uri": "https://localhost:8080/"
        },
        "id": "jCIKy9UihECE",
        "outputId": "e56bff29-41ff-4ea8-ffbf-933950ba44c7"
      },
      "execution_count": 181,
      "outputs": [
        {
          "output_type": "execute_result",
          "data": {
            "text/plain": [
              "Counter({3: 1, 5: 1, 7: 1})"
            ]
          },
          "metadata": {},
          "execution_count": 181
        }
      ]
    },
    {
      "cell_type": "code",
      "source": [
        "friendships[2]"
      ],
      "metadata": {
        "colab": {
          "base_uri": "https://localhost:8080/"
        },
        "id": "p1D7rAVPiAK2",
        "outputId": "5e9731a7-cb11-42c2-f1e8-4d54148fd88e"
      },
      "execution_count": 128,
      "outputs": [
        {
          "output_type": "execute_result",
          "data": {
            "text/plain": [
              "[0, 1, 3]"
            ]
          },
          "metadata": {},
          "execution_count": 128
        }
      ]
    },
    {
      "cell_type": "code",
      "source": [
        "#Add improvement\n",
        "def most_common_interests_with(user):\n",
        "    return Counter(\n",
        "        interested_user_id\n",
        "        for interest in interests_by_user_id[user]\n",
        "        for interested_user_id in user_ids_by_interest[interest]\n",
        "        if interested_user_id not in friendships[user] and interested_user_id != user\n",
        "        )"
      ],
      "metadata": {
        "id": "wRY6VmoziWPW"
      },
      "execution_count": 182,
      "outputs": []
    },
    {
      "cell_type": "code",
      "source": [
        "most_common_interests_with(2)"
      ],
      "metadata": {
        "colab": {
          "base_uri": "https://localhost:8080/"
        },
        "id": "3Q_U4lIChGAD",
        "outputId": "d682ec1e-3407-49c2-a8d7-f96d248a15c6"
      },
      "execution_count": 183,
      "outputs": [
        {
          "output_type": "execute_result",
          "data": {
            "text/plain": [
              "Counter({5: 1, 7: 1})"
            ]
          },
          "metadata": {},
          "execution_count": 183
        }
      ]
    },
    {
      "cell_type": "code",
      "source": [
        "user = 2"
      ],
      "metadata": {
        "id": "NP6nWTNppaR0"
      },
      "execution_count": 185,
      "outputs": []
    },
    {
      "cell_type": "code",
      "source": [
        "for interest in interests_by_user_id[user]:\n",
        "    for interested_user_id in user_ids_by_interest[interest]:\n",
        "        if interested_user_id not in friendships[user] and interested_user_id != user:\n",
        "            print(interested_user_id)\n"
      ],
      "metadata": {
        "colab": {
          "base_uri": "https://localhost:8080/"
        },
        "id": "XzrqoGjlpdL8",
        "outputId": "84716658-2ea4-4409-9981-c680dd9e513c"
      },
      "execution_count": 194,
      "outputs": [
        {
          "output_type": "stream",
          "name": "stdout",
          "text": [
            "5\n",
            "7\n"
          ]
        }
      ]
    },
    {
      "cell_type": "code",
      "source": [
        "user_ids_by_interest"
      ],
      "metadata": {
        "colab": {
          "base_uri": "https://localhost:8080/"
        },
        "id": "ZhPTsXnApiAk",
        "outputId": "529cd79e-27de-41bd-9a6e-f00b047489e3"
      },
      "execution_count": 190,
      "outputs": [
        {
          "output_type": "execute_result",
          "data": {
            "text/plain": [
              "defaultdict(list,\n",
              "            {'Big Data': [0, 8, 9],\n",
              "             'C++': [5],\n",
              "             'Cassandra': [0, 1],\n",
              "             'HBase': [0, 1],\n",
              "             'Hadoop': [0, 9],\n",
              "             'Haskell': [5],\n",
              "             'Java': [0, 5, 9],\n",
              "             'Mahout': [7],\n",
              "             'MapReduce': [9],\n",
              "             'MongoDB': [1],\n",
              "             'NoSQL': [1],\n",
              "             'Postgres': [1],\n",
              "             'Python': [2, 3, 5],\n",
              "             'R': [3, 5],\n",
              "             'Spark': [0],\n",
              "             'Storm': [0],\n",
              "             'artificial intelligence': [8],\n",
              "             'decision trees': [4],\n",
              "             'deep learning': [8],\n",
              "             'libsvm': [4],\n",
              "             'machine learning': [4, 7],\n",
              "             'mathematics': [6],\n",
              "             'neural networks': [7, 8],\n",
              "             'numpy': [2],\n",
              "             'pandas': [2],\n",
              "             'probability': [3, 6],\n",
              "             'programming languages': [5],\n",
              "             'regression': [3, 4],\n",
              "             'scikit-learn': [2, 7],\n",
              "             'scipy': [2],\n",
              "             'statistics': [3, 6],\n",
              "             'statsmodels': [2],\n",
              "             'theory': [6]})"
            ]
          },
          "metadata": {},
          "execution_count": 190
        }
      ]
    },
    {
      "cell_type": "code",
      "source": [
        ""
      ],
      "metadata": {
        "id": "fGyr1tklpu5k"
      },
      "execution_count": null,
      "outputs": []
    }
  ]
}