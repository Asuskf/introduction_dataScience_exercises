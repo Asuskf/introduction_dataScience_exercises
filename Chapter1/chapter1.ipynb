{
  "nbformat": 4,
  "nbformat_minor": 0,
  "metadata": {
    "colab": {
      "name": "chapter1.ipynb",
      "provenance": [],
      "authorship_tag": "ABX9TyNYSceAkWHD1EqdvZJQV+hD",
      "include_colab_link": true
    },
    "kernelspec": {
      "name": "python3",
      "display_name": "Python 3"
    },
    "language_info": {
      "name": "python"
    }
  },
  "cells": [
    {
      "cell_type": "markdown",
      "metadata": {
        "id": "view-in-github",
        "colab_type": "text"
      },
      "source": [
        "<a href=\"https://colab.research.google.com/github/Asuskf/introduction_dataScience_exercises/blob/main/Chapter1/chapter1.ipynb\" target=\"_parent\"><img src=\"https://colab.research.google.com/assets/colab-badge.svg\" alt=\"Open In Colab\"/></a>"
      ]
    },
    {
      "cell_type": "markdown",
      "source": [
        "#Books:\n",
        "\n",
        "\n",
        "\n",
        "*   **Book1** = [Data Science from Scratch SECOND EDITION First Principles with Python by Joel Gru](https://www.amazon.es/Data-Science-Scratch-Principles-Python/dp/1492041130?__mk_es_ES=%C3%85M%C3%85%C5%BD%C3%95%C3%91&dchild=1&keywords=data+science&qid=1624268665&sr=8-8&linkCode=sl1&tag=oscarfmdc01-21&linkId=b701f61cbe8ee01459bd2b91d1b5ba33&language=es_ES&ref_=as_li_ss_tl)\n",
        "\n",
        "*   **Book2** = [Introducing Data Science Big data, machine learning, and more, using Python by Davy Cielen, Arno D. B. Meysman](https://www.amazon.com/-/es/Davy-Cielen/dp/1633430030)\n",
        "\n"
      ],
      "metadata": {
        "id": "m4yxtdv2McWa"
      }
    },
    {
      "cell_type": "markdown",
      "source": [
        "## Book1 - exercise 1\n"
      ],
      "metadata": {
        "id": "7yqqDr1TRJtr"
      }
    },
    {
      "cell_type": "code",
      "execution_count": 14,
      "metadata": {
        "id": "tIpJkgruMacM"
      },
      "outputs": [],
      "source": [
        "users = [\n",
        "{ \"id\": 0, \"name\": \"Hero\" },\n",
        "{ \"id\": 1, \"name\": \"Dunn\" },\n",
        "{ \"id\": 2, \"name\": \"Sue\" },\n",
        "{ \"id\": 3, \"name\": \"Chi\" },\n",
        "{ \"id\": 4, \"name\": \"Thor\" },\n",
        "{ \"id\": 5, \"name\": \"Clive\" },\n",
        "{ \"id\": 6, \"name\": \"Hicks\" },\n",
        "{ \"id\": 7, \"name\": \"Devin\" },\n",
        "{ \"id\": 8, \"name\": \"Kate\" },\n",
        "{ \"id\": 9, \"name\": \"Klein\" }\n",
        "]\n",
        "\n",
        "#Communication between users\n",
        "friendship_pairs = [(0, 1), (0, 2), (1, 2), (1, 3), (2, 3), (3, 4),\n",
        "(4, 5), (5, 6), (5, 7), (6, 8), (7, 8), (8, 9)]"
      ]
    },
    {
      "cell_type": "code",
      "source": [
        "friendships = {user[\"id\"]: [] for user in users}\n",
        "for i, j in friendship_pairs:\n",
        "    friendships[i].append(j) # Add j as a friend of user i\n",
        "    friendships[j].append(i) # Add i as a friend of user j"
      ],
      "metadata": {
        "id": "CrqLZSqrM_oG"
      },
      "execution_count": 15,
      "outputs": []
    },
    {
      "cell_type": "code",
      "source": [
        "#What’s the average number of connections?\n",
        "#Book solution\n",
        "## We find the total number of connections, by summing up the lengths of all the friends lists:\n",
        "def number_of_friends(user):\n",
        "    \"\"\"How many friends does _user_ have?\"\"\"\n",
        "    user_id = user[\"id\"]\n",
        "    friend_ids = friendships[user_id]\n",
        "    return len(friend_ids)\n",
        "\n",
        "total_connections = sum(number_of_friends(user) for user in users)"
      ],
      "metadata": {
        "id": "8ajB1TbgOWX-"
      },
      "execution_count": 29,
      "outputs": []
    },
    {
      "cell_type": "code",
      "source": [
        "#And then we just divide by the number of users:\n",
        "num_users = len(users) # length of the users list\n",
        "avg_connections = total_connections / num_users  "
      ],
      "metadata": {
        "id": "eNwuEd6yrtZQ"
      },
      "execution_count": 32,
      "outputs": []
    },
    {
      "cell_type": "code",
      "source": [
        "#My solution\n",
        "#And then we just divide by the number of users:\n",
        "num_users = len(users) # length of the users list\n",
        "sum(len(friendships[user]) for user in friendships) #/ num_users"
      ],
      "metadata": {
        "colab": {
          "base_uri": "https://localhost:8080/"
        },
        "id": "VIuFNQDOrZ0k",
        "outputId": "0afe7b96-651b-48d1-90df-c3fa9ea275b9"
      },
      "execution_count": 39,
      "outputs": [
        {
          "output_type": "execute_result",
          "data": {
            "text/plain": [
              "24"
            ]
          },
          "metadata": {},
          "execution_count": 39
        }
      ]
    },
    {
      "cell_type": "code",
      "source": [
        "#Verification\n",
        "total_connections == sum(len(friendships[user]) for user in friendships)"
      ],
      "metadata": {
        "colab": {
          "base_uri": "https://localhost:8080/"
        },
        "id": "psVxrNW6rk4C",
        "outputId": "43feabaa-e4c2-4d92-ee63-8c1e5cea619e"
      },
      "execution_count": 31,
      "outputs": [
        {
          "output_type": "execute_result",
          "data": {
            "text/plain": [
              "True"
            ]
          },
          "metadata": {},
          "execution_count": 31
        }
      ]
    },
    {
      "cell_type": "code",
      "source": [
        "#Order them from \"most friends ”to“ less friends ”:\n",
        "# Create a list (user_id, number_of_friends).\n",
        "num_friends_by_id = [(user[\"id\"], number_of_friends(user)) for user in users]"
      ],
      "metadata": {
        "id": "Dc7hhL0fseEV"
      },
      "execution_count": 99,
      "outputs": []
    },
    {
      "cell_type": "code",
      "source": [
        "#My solution\n",
        "[(user, len(friendships[user])) for user in friendships]"
      ],
      "metadata": {
        "colab": {
          "base_uri": "https://localhost:8080/"
        },
        "id": "JT8i4tr38gK0",
        "outputId": "7aac0eb5-4f6a-4941-830c-559c37598658"
      },
      "execution_count": 100,
      "outputs": [
        {
          "output_type": "execute_result",
          "data": {
            "text/plain": [
              "[(0, 2),\n",
              " (1, 3),\n",
              " (2, 3),\n",
              " (3, 3),\n",
              " (4, 2),\n",
              " (5, 3),\n",
              " (6, 2),\n",
              " (7, 2),\n",
              " (8, 3),\n",
              " (9, 1)]"
            ]
          },
          "metadata": {},
          "execution_count": 100
        }
      ]
    },
    {
      "cell_type": "code",
      "source": [
        "#Verification\n",
        "num_friends_by_id == [(user, len(friendships[user])) for user in friendships]"
      ],
      "metadata": {
        "colab": {
          "base_uri": "https://localhost:8080/"
        },
        "id": "lePj7McR89b4",
        "outputId": "b6a46fb7-f8d5-4a3a-d1fa-79f7159e3e7e"
      },
      "execution_count": 102,
      "outputs": [
        {
          "output_type": "execute_result",
          "data": {
            "text/plain": [
              "True"
            ]
          },
          "metadata": {},
          "execution_count": 102
        }
      ]
    },
    {
      "cell_type": "code",
      "source": [
        "#Book solution\n",
        "num_friends_by_id.sort(# Sort the list\n",
        "    key=lambda id_and_friends: id_and_friends[1],# by num_friends\n",
        "    reverse=True)# largest to smallest"
      ],
      "metadata": {
        "id": "pmb7YsAKtpaH"
      },
      "execution_count": 91,
      "outputs": []
    },
    {
      "cell_type": "code",
      "source": [
        "num_friends_by_id"
      ],
      "metadata": {
        "colab": {
          "base_uri": "https://localhost:8080/"
        },
        "id": "ZtmkQN5B6lWY",
        "outputId": "909d10fb-8352-4226-e2d6-ca4ce60bb1b5"
      },
      "execution_count": 92,
      "outputs": [
        {
          "output_type": "execute_result",
          "data": {
            "text/plain": [
              "[(1, 3),\n",
              " (2, 3),\n",
              " (3, 3),\n",
              " (5, 3),\n",
              " (8, 3),\n",
              " (0, 2),\n",
              " (4, 2),\n",
              " (6, 2),\n",
              " (7, 2),\n",
              " (9, 1)]"
            ]
          },
          "metadata": {},
          "execution_count": 92
        }
      ]
    }
  ]
}