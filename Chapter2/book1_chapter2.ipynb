{
  "nbformat": 4,
  "nbformat_minor": 0,
  "metadata": {
    "colab": {
      "provenance": [],
      "toc_visible": true,
      "authorship_tag": "ABX9TyOTQuNQhMziWuuQ2Pa2ob/t",
      "include_colab_link": true
    },
    "kernelspec": {
      "name": "python3",
      "display_name": "Python 3"
    },
    "language_info": {
      "name": "python"
    }
  },
  "cells": [
    {
      "cell_type": "markdown",
      "metadata": {
        "id": "view-in-github",
        "colab_type": "text"
      },
      "source": [
        "<a href=\"https://colab.research.google.com/github/Asuskf/introduction_dataScience_exercises/blob/main/Chapter2/book1_chapter2.ipynb\" target=\"_parent\"><img src=\"https://colab.research.google.com/assets/colab-badge.svg\" alt=\"Open In Colab\"/></a>"
      ]
    },
    {
      "cell_type": "markdown",
      "source": [
        "## **The Zen of Python**\n",
        "### Best practices for programming in **Python**\n",
        "\n"
      ],
      "metadata": {
        "id": "JqIifxtXpJck"
      }
    },
    {
      "cell_type": "code",
      "execution_count": null,
      "metadata": {
        "colab": {
          "base_uri": "https://localhost:8080/"
        },
        "id": "Kem8MSw7oH_P",
        "outputId": "94bbef3f-c44f-4afa-c6cc-6ed408aa8b56"
      },
      "outputs": [
        {
          "output_type": "stream",
          "name": "stdout",
          "text": [
            "The Zen of Python, by Tim Peters\n",
            "\n",
            "Beautiful is better than ugly.\n",
            "Explicit is better than implicit.\n",
            "Simple is better than complex.\n",
            "Complex is better than complicated.\n",
            "Flat is better than nested.\n",
            "Sparse is better than dense.\n",
            "Readability counts.\n",
            "Special cases aren't special enough to break the rules.\n",
            "Although practicality beats purity.\n",
            "Errors should never pass silently.\n",
            "Unless explicitly silenced.\n",
            "In the face of ambiguity, refuse the temptation to guess.\n",
            "There should be one-- and preferably only one --obvious way to do it.\n",
            "Although that way may not be obvious at first unless you're Dutch.\n",
            "Now is better than never.\n",
            "Although never is often better than *right* now.\n",
            "If the implementation is hard to explain, it's a bad idea.\n",
            "If the implementation is easy to explain, it may be a good idea.\n",
            "Namespaces are one honking great idea -- let's do more of those!\n"
          ]
        }
      ],
      "source": [
        "import this"
      ]
    },
    {
      "cell_type": "markdown",
      "source": [
        "## **Book1 - exercise 2 part1**\n",
        "\n",
        "*   Whitespace Formatting\n",
        "*   Modules\n",
        "\n"
      ],
      "metadata": {
        "id": "Eag1GLCGqqBx"
      }
    },
    {
      "cell_type": "markdown",
      "source": [
        "### Whitespace Formatting\n",
        "*Notes:*\n",
        "*    The sign # is used for comments in **Python**\n",
        "*    Whitespace is ignored inside parentheses and brackets, which can be helpful for longwinded computations:"
      ],
      "metadata": {
        "id": "Y8uVrI0es3ke"
      }
    },
    {
      "cell_type": "code",
      "source": [
        "# The pound sign marks the start of a comment. Python itself\n",
        "# ignores the comments, but they're helpful for anyone reading the code.\n",
        "for i in [1, 2, 3, 4, 5]:\n",
        "    print(i)                    # first line in \"for i\" block\n",
        "    for j in [1, 2, 3, 4, 5]:\n",
        "        print(\"j\", j)                # first line in \"for j\" block\n",
        "        print(\"plus\",i + j)            # last line in \"for j\" block\n",
        "        print(\"i\", i)                # last line in \"for i\" block\n",
        "print(\"done looping\")"
      ],
      "metadata": {
        "id": "Wt-S_DZRqo_Y",
        "outputId": "52ca9497-bc20-4b6b-b70c-fca064876490",
        "colab": {
          "base_uri": "https://localhost:8080/"
        }
      },
      "execution_count": null,
      "outputs": [
        {
          "output_type": "stream",
          "name": "stdout",
          "text": [
            "1\n",
            "j 1\n",
            "plus 2\n",
            "i 1\n",
            "j 2\n",
            "plus 3\n",
            "i 1\n",
            "j 3\n",
            "plus 4\n",
            "i 1\n",
            "j 4\n",
            "plus 5\n",
            "i 1\n",
            "j 5\n",
            "plus 6\n",
            "i 1\n",
            "2\n",
            "j 1\n",
            "plus 3\n",
            "i 2\n",
            "j 2\n",
            "plus 4\n",
            "i 2\n",
            "j 3\n",
            "plus 5\n",
            "i 2\n",
            "j 4\n",
            "plus 6\n",
            "i 2\n",
            "j 5\n",
            "plus 7\n",
            "i 2\n",
            "3\n",
            "j 1\n",
            "plus 4\n",
            "i 3\n",
            "j 2\n",
            "plus 5\n",
            "i 3\n",
            "j 3\n",
            "plus 6\n",
            "i 3\n",
            "j 4\n",
            "plus 7\n",
            "i 3\n",
            "j 5\n",
            "plus 8\n",
            "i 3\n",
            "4\n",
            "j 1\n",
            "plus 5\n",
            "i 4\n",
            "j 2\n",
            "plus 6\n",
            "i 4\n",
            "j 3\n",
            "plus 7\n",
            "i 4\n",
            "j 4\n",
            "plus 8\n",
            "i 4\n",
            "j 5\n",
            "plus 9\n",
            "i 4\n",
            "5\n",
            "j 1\n",
            "plus 6\n",
            "i 5\n",
            "j 2\n",
            "plus 7\n",
            "i 5\n",
            "j 3\n",
            "plus 8\n",
            "i 5\n",
            "j 4\n",
            "plus 9\n",
            "i 5\n",
            "j 5\n",
            "plus 10\n",
            "i 5\n",
            "done looping\n"
          ]
        }
      ]
    },
    {
      "cell_type": "code",
      "source": [
        "long_winded_computation = (1 + 2 + 3 + 4 + 5 + 6 + 7 + 8 + 9 + 10 + 11 + 12 + 13 + 14 + 15 + 16 + 17 + 18 + 19 + 20)\n",
        "long_winded_computation"
      ],
      "metadata": {
        "colab": {
          "base_uri": "https://localhost:8080/"
        },
        "id": "tkvlQGyktaaa",
        "outputId": "ae086470-3230-4877-f0ee-1cdbb83fa691"
      },
      "execution_count": null,
      "outputs": [
        {
          "output_type": "execute_result",
          "data": {
            "text/plain": [
              "210"
            ]
          },
          "metadata": {},
          "execution_count": 7
        }
      ]
    },
    {
      "cell_type": "markdown",
      "source": [
        "\n",
        "#### Tips for whitespace Formatting"
      ],
      "metadata": {
        "id": "BguDAiRpsE_H"
      }
    },
    {
      "cell_type": "code",
      "source": [
        "# Easier to read\n",
        "# Bad\n",
        "list_of_lists = [[1, 2, 3], [4, 5, 6], [7, 8, 9]]\n",
        "\n",
        "# Better\n",
        "easier_to_read_list_of_lists = [[1, 2, 3],\n",
        "                                [4, 5, 6],\n",
        "                                [7, 8, 9]]"
      ],
      "metadata": {
        "id": "IAdiqjzcpUhc"
      },
      "execution_count": null,
      "outputs": []
    },
    {
      "cell_type": "code",
      "source": [
        "two_plus_three = 2 + \\\n",
        "                 3"
      ],
      "metadata": {
        "id": "lQlJCbPAuLv-"
      },
      "execution_count": null,
      "outputs": []
    },
    {
      "cell_type": "code",
      "source": [
        "two_plus_three"
      ],
      "metadata": {
        "colab": {
          "base_uri": "https://localhost:8080/"
        },
        "id": "VjhRUsCMlxRI",
        "outputId": "5b1cdce8-324f-4f9d-ffb9-20263d9f2fbb"
      },
      "execution_count": null,
      "outputs": [
        {
          "output_type": "execute_result",
          "data": {
            "text/plain": [
              "5"
            ]
          },
          "metadata": {},
          "execution_count": 11
        }
      ]
    },
    {
      "cell_type": "code",
      "source": [
        "for i in [1, 2, 3, 4, 5]:\n",
        " # notice the blank line\n",
        " print(i)"
      ],
      "metadata": {
        "colab": {
          "base_uri": "https://localhost:8080/"
        },
        "id": "va7dqe7pl1hR",
        "outputId": "b16b36ef-db62-4f22-e33b-b878c068e092"
      },
      "execution_count": null,
      "outputs": [
        {
          "output_type": "stream",
          "name": "stdout",
          "text": [
            "1\n",
            "2\n",
            "3\n",
            "4\n",
            "5\n"
          ]
        }
      ]
    },
    {
      "cell_type": "markdown",
      "source": [
        "### Modules (features)\n",
        "* There are modules that you need to install.\n",
        "* Others you need to call with **import**\n",
        "* Others are loaded by default"
      ],
      "metadata": {
        "id": "j684gFN0mGLl"
      }
    },
    {
      "cell_type": "markdown",
      "source": [
        "#### Modules that you need to call"
      ],
      "metadata": {
        "id": "qaUykBoKnr63"
      }
    },
    {
      "cell_type": "code",
      "source": [
        "# Modules that you need to call\n",
        "import re\n",
        "\n",
        "# regular expressions\n",
        "my_regex = re.compile(\"[0-9]\", re.I)"
      ],
      "metadata": {
        "id": "p6typrLPl6-h"
      },
      "execution_count": null,
      "outputs": []
    },
    {
      "cell_type": "code",
      "source": [
        "# Modules that you need to call with nickname\n",
        "import re as regex\n",
        "my_regex = regex.compile(\"[0-9]+\", regex.I)"
      ],
      "metadata": {
        "id": "5SYaCwp3nZh6"
      },
      "execution_count": null,
      "outputs": []
    },
    {
      "cell_type": "code",
      "source": [
        "from collections import defaultdict, Counter\n",
        "lookup = defaultdict(int)\n",
        "my_counter = Counter()"
      ],
      "metadata": {
        "id": "HAmC6nsvnp0q"
      },
      "execution_count": null,
      "outputs": []
    },
    {
      "cell_type": "code",
      "source": [
        "lookup"
      ],
      "metadata": {
        "colab": {
          "base_uri": "https://localhost:8080/"
        },
        "id": "a3edTaOAoUVI",
        "outputId": "3f24193f-fa59-4407-f271-db4dad9ab7d0"
      },
      "execution_count": null,
      "outputs": [
        {
          "output_type": "execute_result",
          "data": {
            "text/plain": [
              "defaultdict(int, {})"
            ]
          },
          "metadata": {},
          "execution_count": 32
        }
      ]
    },
    {
      "cell_type": "code",
      "source": [
        "lookup[\"s\"]"
      ],
      "metadata": {
        "colab": {
          "base_uri": "https://localhost:8080/"
        },
        "id": "EofkJ5GKpD-K",
        "outputId": "8e68216e-4ef5-4296-cb75-e3b6691867ae"
      },
      "execution_count": null,
      "outputs": [
        {
          "output_type": "execute_result",
          "data": {
            "text/plain": [
              "0"
            ]
          },
          "metadata": {},
          "execution_count": 36
        }
      ]
    },
    {
      "cell_type": "code",
      "source": [
        "my_counter.update([1,2,2,3,1])"
      ],
      "metadata": {
        "id": "ljwJsNktoYO_"
      },
      "execution_count": null,
      "outputs": []
    },
    {
      "cell_type": "code",
      "source": [
        "my_counter"
      ],
      "metadata": {
        "colab": {
          "base_uri": "https://localhost:8080/"
        },
        "id": "dWI2EsOJqlvl",
        "outputId": "f57a5433-6967-48ba-e26d-0abde01a08a4"
      },
      "execution_count": null,
      "outputs": [
        {
          "output_type": "execute_result",
          "data": {
            "text/plain": [
              "Counter({1: 4, 2: 4, 3: 2})"
            ]
          },
          "metadata": {},
          "execution_count": 38
        }
      ]
    },
    {
      "cell_type": "markdown",
      "source": [
        "#### Mistake"
      ],
      "metadata": {
        "id": "zXVoCgIMn8HW"
      }
    },
    {
      "cell_type": "code",
      "source": [
        "match = 10\n",
        "from re import * # uh oh, re has a match function\n",
        "print(match) # \"<function match at 0x10281e6a8>\""
      ],
      "metadata": {
        "colab": {
          "base_uri": "https://localhost:8080/"
        },
        "id": "hBhVrXs8rdho",
        "outputId": "0a764b5f-3f5f-421c-a010-c5ad1026fb50"
      },
      "execution_count": null,
      "outputs": [
        {
          "output_type": "stream",
          "name": "stdout",
          "text": [
            "<function match at 0x7fac6c3eda20>\n"
          ]
        }
      ]
    },
    {
      "cell_type": "markdown",
      "source": [
        "## **Book1 - exercise 2 part2**\n",
        "*   Functions\n",
        "*   Strings\n",
        "\n",
        "Key word **def**\n"
      ],
      "metadata": {
        "id": "aIZcYD09r6P2"
      }
    },
    {
      "cell_type": "markdown",
      "source": [
        "### **Functions**"
      ],
      "metadata": {
        "id": "XuhYAhmWqLPB"
      }
    },
    {
      "cell_type": "code",
      "source": [
        "def double(x):\n",
        "    \"\"\"\n",
        "    This is where you put an optional docstring that explains what the\n",
        "    function does. For example, this function multiplies its input by 2.\n",
        "    \"\"\"\n",
        "    return x * 2"
      ],
      "metadata": {
        "id": "4jZMT88Erd3r"
      },
      "execution_count": null,
      "outputs": []
    },
    {
      "cell_type": "markdown",
      "source": [
        "Note\n",
        "\n",
        "**Docstring**:  short for \"documentation string,\" is a special type of string literal in computer programming that is used to document functions, classes, modules, or methods in source code."
      ],
      "metadata": {
        "id": "ivwPV_MZcIas"
      }
    },
    {
      "cell_type": "code",
      "source": [
        "def apply_to_one(f):\n",
        "    \"\"\"Calls the function f with 1 as its argument\"\"\"\n",
        "    return f(1)"
      ],
      "metadata": {
        "id": "AvJXp19FZ6IT"
      },
      "execution_count": null,
      "outputs": []
    },
    {
      "cell_type": "code",
      "source": [
        "my_double = double # refers to the previously defined function\n",
        "x = apply_to_one(my_double) # equals 2"
      ],
      "metadata": {
        "id": "6wjbqTqIhX2O"
      },
      "execution_count": null,
      "outputs": []
    },
    {
      "cell_type": "code",
      "source": [
        "my_double"
      ],
      "metadata": {
        "colab": {
          "base_uri": "https://localhost:8080/"
        },
        "id": "ezXJB1n9hdNs",
        "outputId": "2e9751bf-0bbf-414c-a94f-4ce60461e94b"
      },
      "execution_count": null,
      "outputs": [
        {
          "output_type": "execute_result",
          "data": {
            "text/plain": [
              "<function __main__.double(x)>"
            ]
          },
          "metadata": {},
          "execution_count": 4
        }
      ]
    },
    {
      "cell_type": "code",
      "source": [
        "apply_to_one(my_double)"
      ],
      "metadata": {
        "colab": {
          "base_uri": "https://localhost:8080/"
        },
        "id": "xjlUml5vhej0",
        "outputId": "f033a49f-3983-4080-d242-a364d11ef934"
      },
      "execution_count": null,
      "outputs": [
        {
          "output_type": "execute_result",
          "data": {
            "text/plain": [
              "2"
            ]
          },
          "metadata": {},
          "execution_count": 5
        }
      ]
    },
    {
      "cell_type": "markdown",
      "source": [
        "#### Default arguments"
      ],
      "metadata": {
        "id": "tUs7otgkq2Yp"
      }
    },
    {
      "cell_type": "code",
      "source": [
        "def my_print(message = \"my default message\"):\n",
        "    print(message)\n",
        "my_print(\"hello\") # prints 'hello'\n",
        "my_print() # prints 'my default message'"
      ],
      "metadata": {
        "colab": {
          "base_uri": "https://localhost:8080/"
        },
        "id": "Ek0xuEjNq90b",
        "outputId": "1e5b0e9b-9103-41fc-9635-3af7e7b1e2dc"
      },
      "execution_count": null,
      "outputs": [
        {
          "output_type": "stream",
          "name": "stdout",
          "text": [
            "hello\n",
            "my default message\n"
          ]
        }
      ]
    },
    {
      "cell_type": "code",
      "source": [
        "def full_name(first = \"What's-his-name\", last = \"Something\"):\n",
        "    return print(first + \" \" + last)\n",
        "full_name(\"Joel\", \"Grus\") # \"Joel Grus\"\n",
        "full_name(\"Joel\") # \"Joel Something\"\n",
        "full_name(last=\"Grus\") # \"What's-his-name Grus\""
      ],
      "metadata": {
        "colab": {
          "base_uri": "https://localhost:8080/"
        },
        "id": "TQ_ZPkkKrERC",
        "outputId": "23e2d368-baa9-422d-c7b6-c384604e24bd"
      },
      "execution_count": null,
      "outputs": [
        {
          "output_type": "stream",
          "name": "stdout",
          "text": [
            "Joel Grus\n",
            "Joel Something\n",
            "What's-his-name Grus\n"
          ]
        }
      ]
    },
    {
      "cell_type": "markdown",
      "source": [
        "#### **Anonymous functions, or lambdas**"
      ],
      "metadata": {
        "id": "2dpWIMTeqB6H"
      }
    },
    {
      "cell_type": "code",
      "source": [
        "y = apply_to_one(lambda x: x + 4)"
      ],
      "metadata": {
        "id": "SApvPJu8hinc"
      },
      "execution_count": null,
      "outputs": []
    },
    {
      "cell_type": "code",
      "source": [
        "another_double = lambda x: 2 * x # don't do this"
      ],
      "metadata": {
        "id": "cgmpSQxvqSZU"
      },
      "execution_count": null,
      "outputs": []
    },
    {
      "cell_type": "code",
      "source": [
        "def another_double(x):\n",
        "    \"\"\"Do this instead\"\"\"\n",
        "    return 2 * x"
      ],
      "metadata": {
        "id": "2XKelmqXqbli"
      },
      "execution_count": null,
      "outputs": []
    },
    {
      "cell_type": "markdown",
      "source": [
        "### Strings"
      ],
      "metadata": {
        "id": "-kaQ_GtmrPLW"
      }
    },
    {
      "cell_type": "code",
      "source": [
        "single_quoted_string = 'data science'\n",
        "double_quoted_string = \"data science\""
      ],
      "metadata": {
        "id": "Y4Sk4XVVqfb7"
      },
      "execution_count": null,
      "outputs": []
    },
    {
      "cell_type": "code",
      "source": [
        "print(single_quoted_string)"
      ],
      "metadata": {
        "colab": {
          "base_uri": "https://localhost:8080/"
        },
        "id": "prz-KYaKrgUd",
        "outputId": "f2746b34-d137-4548-93c8-a7a74c349220"
      },
      "execution_count": null,
      "outputs": [
        {
          "output_type": "stream",
          "name": "stdout",
          "text": [
            "data science\n"
          ]
        }
      ]
    },
    {
      "cell_type": "code",
      "source": [
        "tab_string = \"\\t\" # represents the tab character\n",
        "len(tab_string) # is 1"
      ],
      "metadata": {
        "colab": {
          "base_uri": "https://localhost:8080/"
        },
        "id": "dGVD7vAcraeM",
        "outputId": "0515029b-a035-408e-a233-b52ee787636e"
      },
      "execution_count": null,
      "outputs": [
        {
          "output_type": "execute_result",
          "data": {
            "text/plain": [
              "1"
            ]
          },
          "metadata": {},
          "execution_count": 15
        }
      ]
    },
    {
      "cell_type": "code",
      "source": [
        "single_quoted_string = 'data\\t science'\n",
        "print(single_quoted_string)"
      ],
      "metadata": {
        "colab": {
          "base_uri": "https://localhost:8080/"
        },
        "id": "KY1zoGzQrdVT",
        "outputId": "24e298e3-90ef-42dd-f7e7-094a23ca1a09"
      },
      "execution_count": null,
      "outputs": [
        {
          "output_type": "stream",
          "name": "stdout",
          "text": [
            "data\t science\n"
          ]
        }
      ]
    },
    {
      "cell_type": "code",
      "source": [
        "not_tab_string = r\"\\t\" # represents the characters '\\' and 't'\n",
        "len(not_tab_string) # is 2"
      ],
      "metadata": {
        "colab": {
          "base_uri": "https://localhost:8080/"
        },
        "id": "1vqM_tMsrluK",
        "outputId": "710325a1-cb0c-405f-d6e6-5f794be8ddff"
      },
      "execution_count": null,
      "outputs": [
        {
          "output_type": "execute_result",
          "data": {
            "text/plain": [
              "2"
            ]
          },
          "metadata": {},
          "execution_count": 18
        }
      ]
    },
    {
      "cell_type": "code",
      "source": [
        "single_quoted_string = r'data\\t science'\n",
        "print(single_quoted_string)"
      ],
      "metadata": {
        "colab": {
          "base_uri": "https://localhost:8080/"
        },
        "id": "OV8a0ueHrq8y",
        "outputId": "2a36f9ec-67c4-498d-9840-2bd7c9b7eced"
      },
      "execution_count": null,
      "outputs": [
        {
          "output_type": "stream",
          "name": "stdout",
          "text": [
            "data\\t science\n"
          ]
        }
      ]
    },
    {
      "cell_type": "code",
      "source": [
        "multi_line_string = \"\"\"This is the first line.\n",
        "and this is the second line\n",
        "and this is the third line\"\"\""
      ],
      "metadata": {
        "id": "JyS9KiCtrvPC"
      },
      "execution_count": null,
      "outputs": []
    },
    {
      "cell_type": "code",
      "source": [
        "first_name = \"Joel\"\n",
        "last_name = \"Grus\""
      ],
      "metadata": {
        "id": "oH7f-Bn4rye6"
      },
      "execution_count": null,
      "outputs": []
    },
    {
      "cell_type": "code",
      "source": [
        "full_name1 = first_name + \" \" + last_name # string addition\n",
        "full_name2 = \"{0} {1}\".format(first_name, last_name) # string.format\n",
        "full_name3 = f\"{first_name} {last_name}\"  # f-Strings"
      ],
      "metadata": {
        "id": "amJfsKODr0rP"
      },
      "execution_count": null,
      "outputs": []
    },
    {
      "cell_type": "code",
      "source": [
        "full_name1"
      ],
      "metadata": {
        "colab": {
          "base_uri": "https://localhost:8080/",
          "height": 35
        },
        "id": "dWovYUoyr2oH",
        "outputId": "83cca57b-c28d-4c50-f45f-9035c4bb3de2"
      },
      "execution_count": null,
      "outputs": [
        {
          "output_type": "execute_result",
          "data": {
            "text/plain": [
              "'Joel Grus'"
            ],
            "application/vnd.google.colaboratory.intrinsic+json": {
              "type": "string"
            }
          },
          "metadata": {},
          "execution_count": 23
        }
      ]
    },
    {
      "cell_type": "code",
      "source": [
        "full_name2"
      ],
      "metadata": {
        "colab": {
          "base_uri": "https://localhost:8080/",
          "height": 35
        },
        "id": "1OPek5bJr4Iv",
        "outputId": "cf60caad-50f6-480f-bc89-cc68d4f226e8"
      },
      "execution_count": null,
      "outputs": [
        {
          "output_type": "execute_result",
          "data": {
            "text/plain": [
              "'Joel Grus'"
            ],
            "application/vnd.google.colaboratory.intrinsic+json": {
              "type": "string"
            }
          },
          "metadata": {},
          "execution_count": 24
        }
      ]
    },
    {
      "cell_type": "code",
      "source": [
        "full_name3"
      ],
      "metadata": {
        "colab": {
          "base_uri": "https://localhost:8080/",
          "height": 35
        },
        "id": "wG4DGhYSr5VG",
        "outputId": "dd6d1a10-3bbb-49af-96e1-d516478b81a4"
      },
      "execution_count": null,
      "outputs": [
        {
          "output_type": "execute_result",
          "data": {
            "text/plain": [
              "'Joel Grus'"
            ],
            "application/vnd.google.colaboratory.intrinsic+json": {
              "type": "string"
            }
          },
          "metadata": {},
          "execution_count": 27
        }
      ]
    },
    {
      "cell_type": "markdown",
      "source": [
        "### Exceptions"
      ],
      "metadata": {
        "id": "rutDlUhWsbjG"
      }
    },
    {
      "cell_type": "code",
      "source": [
        "try:\n",
        "    print(0 / 0)\n",
        "except ZeroDivisionError:\n",
        "    print(\"Cannot divide by zero\")"
      ],
      "metadata": {
        "colab": {
          "base_uri": "https://localhost:8080/"
        },
        "id": "Xh9AYaTesBm3",
        "outputId": "4b76263e-8164-4635-fb5b-204956f404b4"
      },
      "execution_count": null,
      "outputs": [
        {
          "output_type": "stream",
          "name": "stdout",
          "text": [
            "Cannot divide by zero\n"
          ]
        }
      ]
    },
    {
      "cell_type": "markdown",
      "source": [
        "## **Book1 - exercise 2 part3**\n",
        "* Lists\n",
        "* Tuples"
      ],
      "metadata": {
        "id": "QA4247FPGCHt"
      }
    },
    {
      "cell_type": "markdown",
      "source": [
        "### Lists"
      ],
      "metadata": {
        "id": "gio5VlLBGQZM"
      }
    },
    {
      "cell_type": "code",
      "source": [
        "integer_list = [1, 2, 3]\n",
        "heterogeneous_list = [\"string\", 0.1, True]\n",
        "list_of_lists = [integer_list, heterogeneous_list, []]\n",
        "\n",
        "list_length = len(integer_list) # equals 3\n",
        "list_sum = sum(integer_list) # equals 6"
      ],
      "metadata": {
        "id": "nHQ1stpWtBKL"
      },
      "execution_count": null,
      "outputs": []
    },
    {
      "cell_type": "markdown",
      "source": [
        "#### Get value from list using index"
      ],
      "metadata": {
        "id": "Fkj-G29QGsOb"
      }
    },
    {
      "cell_type": "code",
      "source": [
        "x = [0, 1, 2, 3, 4, 5, 6, 7, 8, 9]\n",
        "zero = x[0] # equals 0, lists are 0-indexed\n",
        "one = x[1] # equals 1\n",
        "nine = x[-1] # equals 9, 'Pythonic' for last element\n",
        "eight = x[-2] # equals 8, 'Pythonic' for next-to-last element\n",
        "x[0] = -1 # now x is [-1, 1, 2, 3, ..., 9"
      ],
      "metadata": {
        "id": "PoT1Nq__Gab-"
      },
      "execution_count": null,
      "outputs": []
    },
    {
      "cell_type": "markdown",
      "source": [
        "#### Traverse a list without for"
      ],
      "metadata": {
        "id": "-J6g-upKG746"
      }
    },
    {
      "cell_type": "code",
      "source": [
        "first_three = x[:3] # [-1, 1, 2]\n",
        "three_to_end = x[3:] # [3, 4, ..., 9]\n",
        "one_to_four = x[1:5] # [1, 2, 3, 4]\n",
        "last_three = x[-3:] # [7, 8, 9]\n",
        "without_first_and_last = x[1:-1] # [1, 2, ..., 8]\n",
        "copy_of_x = x[:] # [-1, 1, 2, ..., 9]"
      ],
      "metadata": {
        "id": "QFhg6Ah7GkwM"
      },
      "execution_count": null,
      "outputs": []
    },
    {
      "cell_type": "markdown",
      "source": [
        "#### Traverse a list with jumps"
      ],
      "metadata": {
        "id": "7h_CAG8AHaTP"
      }
    },
    {
      "cell_type": "code",
      "source": [
        "every_third = x[::3] # [-1, 3, 6, 9]\n",
        "five_to_three = x[5:2:-1] # [5, 4, 3]"
      ],
      "metadata": {
        "id": "XzMc30axHce_"
      },
      "execution_count": null,
      "outputs": []
    },
    {
      "cell_type": "markdown",
      "source": [
        "#### Check value in a list"
      ],
      "metadata": {
        "id": "3Nh5hJu1HrZN"
      }
    },
    {
      "cell_type": "code",
      "source": [
        "1 in [1, 2, 3] # True"
      ],
      "metadata": {
        "colab": {
          "base_uri": "https://localhost:8080/"
        },
        "id": "USSmrbBHHff4",
        "outputId": "c8f88296-3d1a-48c4-e090-ab4875475d45"
      },
      "execution_count": null,
      "outputs": [
        {
          "output_type": "execute_result",
          "data": {
            "text/plain": [
              "True"
            ]
          },
          "metadata": {},
          "execution_count": 6
        }
      ]
    },
    {
      "cell_type": "code",
      "source": [
        "0 in [1, 2, 3] # False"
      ],
      "metadata": {
        "colab": {
          "base_uri": "https://localhost:8080/"
        },
        "id": "NffGR9WVHv8t",
        "outputId": "6a01faf7-57b4-47a4-d950-04813aa03164"
      },
      "execution_count": null,
      "outputs": [
        {
          "output_type": "execute_result",
          "data": {
            "text/plain": [
              "False"
            ]
          },
          "metadata": {},
          "execution_count": 7
        }
      ]
    },
    {
      "cell_type": "markdown",
      "source": [
        "#### Add values in a list"
      ],
      "metadata": {
        "id": "MkJD16quIHke"
      }
    },
    {
      "cell_type": "code",
      "source": [
        "x = [1, 2, 3]\n",
        "x.extend([4, 5, 6])\n",
        "x"
      ],
      "metadata": {
        "colab": {
          "base_uri": "https://localhost:8080/"
        },
        "id": "RClRu0AsHxcE",
        "outputId": "9dbbfe18-c48a-4629-807f-06221c815f71"
      },
      "execution_count": null,
      "outputs": [
        {
          "output_type": "execute_result",
          "data": {
            "text/plain": [
              "[1, 2, 3, 4, 5, 6]"
            ]
          },
          "metadata": {},
          "execution_count": 9
        }
      ]
    },
    {
      "cell_type": "code",
      "source": [
        "x = [1, 2, 3]\n",
        "y = x + [4, 5, 6] # y is [1, 2, 3, 4, 5, 6]; x is unchanged\n",
        "y"
      ],
      "metadata": {
        "colab": {
          "base_uri": "https://localhost:8080/"
        },
        "id": "Yp8Wh7bxIMYF",
        "outputId": "fb6fc757-2447-452a-db37-a16d930f00ba"
      },
      "execution_count": null,
      "outputs": [
        {
          "output_type": "execute_result",
          "data": {
            "text/plain": [
              "[1, 2, 3, 4, 5, 6]"
            ]
          },
          "metadata": {},
          "execution_count": 10
        }
      ]
    },
    {
      "cell_type": "code",
      "source": [
        "x = [1, 2, 3]\n",
        "x.append(0) # x is now [1, 2, 3, 0]"
      ],
      "metadata": {
        "id": "1xwR7fWqIRrx"
      },
      "execution_count": null,
      "outputs": []
    },
    {
      "cell_type": "markdown",
      "source": [
        "#### Get values from a list and create variables with each one"
      ],
      "metadata": {
        "id": "s0QAkHnvInYs"
      }
    },
    {
      "cell_type": "code",
      "source": [
        "x, y = [1, 2] # now x is 1, y is 2"
      ],
      "metadata": {
        "id": "eL3srtHTIVjx"
      },
      "execution_count": null,
      "outputs": []
    },
    {
      "cell_type": "code",
      "source": [
        "_, y = [1, 2] # now y == 2, didn't care about the first element"
      ],
      "metadata": {
        "id": "Od48ftjoItd1"
      },
      "execution_count": null,
      "outputs": []
    },
    {
      "cell_type": "markdown",
      "source": [
        "### Tuples"
      ],
      "metadata": {
        "id": "0k81R2icI9S9"
      }
    },
    {
      "cell_type": "code",
      "source": [
        "my_list = [1, 2]\n",
        "my_tuple = (1, 2)\n",
        "other_tuple = 3, 4\n",
        "my_list[1] = 3 # my_list is now [1, 3]"
      ],
      "metadata": {
        "id": "UhUOsEPZIvW9"
      },
      "execution_count": null,
      "outputs": []
    },
    {
      "cell_type": "code",
      "source": [
        "try:\n",
        "    my_tuple[1] = 3\n",
        "except TypeError:\n",
        "    print(\"Cannot modify a tuple\")"
      ],
      "metadata": {
        "colab": {
          "base_uri": "https://localhost:8080/"
        },
        "id": "M9yQ2-QyJF3y",
        "outputId": "49207977-945a-4949-9d0d-7e7babf28db9"
      },
      "execution_count": null,
      "outputs": [
        {
          "output_type": "stream",
          "name": "stdout",
          "text": [
            "Cannot modify a tuple\n"
          ]
        }
      ]
    },
    {
      "cell_type": "markdown",
      "source": [
        "## **Book1 - exercise 2 part4**\n",
        "* Dictionaries\n",
        "* Defaultdict"
      ],
      "metadata": {
        "id": "25IA64CiItkr"
      }
    },
    {
      "cell_type": "markdown",
      "source": [
        "### Dictionaries"
      ],
      "metadata": {
        "id": "q3qOeiDiI6kS"
      }
    },
    {
      "cell_type": "markdown",
      "source": [
        "#### Declare dictionary"
      ],
      "metadata": {
        "id": "jVSrENTSJxPd"
      }
    },
    {
      "cell_type": "code",
      "source": [
        "empty_dict = {} # Pythonic\n",
        "empty_dict2 = dict() # less Pythonic\n",
        "grades = {\"Joel\": 80, \"Tim\": 95} # dictionary literal"
      ],
      "metadata": {
        "id": "_2bC5AJKJFL4"
      },
      "execution_count": 1,
      "outputs": []
    },
    {
      "cell_type": "code",
      "source": [
        "joels_grade = grades[\"Joel\"] # equals 80\n",
        "joels_grade"
      ],
      "metadata": {
        "colab": {
          "base_uri": "https://localhost:8080/"
        },
        "id": "k-NkivlAJFJA",
        "outputId": "3fbc4b59-92a1-449c-b4f2-419025e3aa40"
      },
      "execution_count": 3,
      "outputs": [
        {
          "output_type": "execute_result",
          "data": {
            "text/plain": [
              "80"
            ]
          },
          "metadata": {},
          "execution_count": 3
        }
      ]
    },
    {
      "cell_type": "markdown",
      "source": [
        "#### Handle error for key that does not exist"
      ],
      "metadata": {
        "id": "zQcsqmtbJyfc"
      }
    },
    {
      "cell_type": "code",
      "source": [
        "try:\n",
        "    kates_grade = grades[\"Kate\"]\n",
        "except KeyError:\n",
        "    print(\"No grade for Kate!\")"
      ],
      "metadata": {
        "colab": {
          "base_uri": "https://localhost:8080/"
        },
        "id": "rnBOWed7JFGb",
        "outputId": "26091e84-e720-4f6e-abd1-22d0835c494f"
      },
      "execution_count": 5,
      "outputs": [
        {
          "output_type": "stream",
          "name": "stdout",
          "text": [
            "No grade for Kate!\n"
          ]
        }
      ]
    },
    {
      "cell_type": "markdown",
      "source": [
        "#### Know if the key exists"
      ],
      "metadata": {
        "id": "5YshhK2EJzgQ"
      }
    },
    {
      "cell_type": "code",
      "source": [
        "joel_has_grade = \"Joel\" in grades # True\n",
        "joel_has_grade"
      ],
      "metadata": {
        "colab": {
          "base_uri": "https://localhost:8080/"
        },
        "id": "QUN0s1QcJFEJ",
        "outputId": "9f8d3205-2000-476e-e9c3-b54bf2dc8cd7"
      },
      "execution_count": 7,
      "outputs": [
        {
          "output_type": "execute_result",
          "data": {
            "text/plain": [
              "True"
            ]
          },
          "metadata": {},
          "execution_count": 7
        }
      ]
    },
    {
      "cell_type": "code",
      "source": [
        "kate_has_grade = \"Kate\" in grades # False\n",
        "kate_has_grade"
      ],
      "metadata": {
        "colab": {
          "base_uri": "https://localhost:8080/"
        },
        "id": "tmzMEZydJFB8",
        "outputId": "261a2769-c804-48f6-874e-f6dfc68d7dab"
      },
      "execution_count": 6,
      "outputs": [
        {
          "output_type": "execute_result",
          "data": {
            "text/plain": [
              "False"
            ]
          },
          "metadata": {},
          "execution_count": 6
        }
      ]
    },
    {
      "cell_type": "markdown",
      "source": [
        "#### Query the data, when the key does not exist it returns none"
      ],
      "metadata": {
        "id": "ho_dV08fJ1Lz"
      }
    },
    {
      "cell_type": "code",
      "source": [
        "joels_grade = grades.get(\"Joel\", 0) # equals 80\n",
        "joels_grade"
      ],
      "metadata": {
        "colab": {
          "base_uri": "https://localhost:8080/"
        },
        "id": "2bXhpxboJE_p",
        "outputId": "cc79eb5c-f94f-4fe0-c080-8939f83eb6c4"
      },
      "execution_count": 8,
      "outputs": [
        {
          "output_type": "execute_result",
          "data": {
            "text/plain": [
              "80"
            ]
          },
          "metadata": {},
          "execution_count": 8
        }
      ]
    },
    {
      "cell_type": "code",
      "source": [
        "kates_grade = grades.get(\"Kate\", 0) # equals 0\n",
        "kates_grade"
      ],
      "metadata": {
        "colab": {
          "base_uri": "https://localhost:8080/"
        },
        "id": "vFalPAEbJE9O",
        "outputId": "43c5ffad-58ef-4e8a-921f-6ab5ce4e0e2d"
      },
      "execution_count": 9,
      "outputs": [
        {
          "output_type": "execute_result",
          "data": {
            "text/plain": [
              "0"
            ]
          },
          "metadata": {},
          "execution_count": 9
        }
      ]
    },
    {
      "cell_type": "code",
      "source": [
        "no_ones_grade = grades.get(\"No One\") # default is None\n",
        "no_ones_grade"
      ],
      "metadata": {
        "id": "RvWD5rNuJE0e"
      },
      "execution_count": 10,
      "outputs": []
    },
    {
      "cell_type": "markdown",
      "source": [
        "#### Add new values in a dict"
      ],
      "metadata": {
        "id": "hPDZSVaFJ2gG"
      }
    },
    {
      "cell_type": "code",
      "source": [
        "grades[\"Tim\"] = 99 # replaces the old value\n",
        "grades[\"Kate\"] = 100 # adds a third entry\n",
        "num_students = len(grades) # equals 3"
      ],
      "metadata": {
        "id": "shLt8FlhJrod"
      },
      "execution_count": 11,
      "outputs": []
    },
    {
      "cell_type": "markdown",
      "source": [
        "#### Exercise\n"
      ],
      "metadata": {
        "id": "NH1vRw_XKrbR"
      }
    },
    {
      "cell_type": "code",
      "source": [
        "tweet = {\n",
        "\"user\" : \"joelgrus\",\n",
        "\"text\" : \"Data Science is Awesome\",\n",
        "\"retweet_count\" : 100,\n",
        "\"hashtags\" : [\"#data\", \"#science\", \"#datascience\", \"#awesome\", \"#yolo\"]\n",
        "}"
      ],
      "metadata": {
        "id": "4F6hMsPLJrc2"
      },
      "execution_count": 12,
      "outputs": []
    },
    {
      "cell_type": "markdown",
      "source": [
        "#### Get data from dict\n"
      ],
      "metadata": {
        "id": "EoZpvVKRK35Z"
      }
    },
    {
      "cell_type": "code",
      "source": [
        "tweet_keys = tweet.keys() # iterable for the keys\n",
        "tweet_values = tweet.values() # iterable for the values\n",
        "tweet_items = tweet.items() # iterable for the (key, value) tuples"
      ],
      "metadata": {
        "id": "Hdfz2fa3K8w2"
      },
      "execution_count": 13,
      "outputs": []
    },
    {
      "cell_type": "code",
      "source": [
        "\"user\" in tweet_keys # True, but not Pythonic"
      ],
      "metadata": {
        "colab": {
          "base_uri": "https://localhost:8080/"
        },
        "id": "a6wTEaQxLCaU",
        "outputId": "821bd2d6-1333-4e05-9b73-4db9c4b73593"
      },
      "execution_count": 14,
      "outputs": [
        {
          "output_type": "execute_result",
          "data": {
            "text/plain": [
              "True"
            ]
          },
          "metadata": {},
          "execution_count": 14
        }
      ]
    },
    {
      "cell_type": "code",
      "source": [
        "\"user\" in tweet # Pythonic way of checking for keys"
      ],
      "metadata": {
        "colab": {
          "base_uri": "https://localhost:8080/"
        },
        "id": "nXTym7V7LCXb",
        "outputId": "ef65a6f8-e264-4e99-f396-ceaa7e8bd95b"
      },
      "execution_count": 15,
      "outputs": [
        {
          "output_type": "execute_result",
          "data": {
            "text/plain": [
              "True"
            ]
          },
          "metadata": {},
          "execution_count": 15
        }
      ]
    },
    {
      "cell_type": "code",
      "source": [
        "\"joelgrus\" in tweet_values # True (slow but the only way to check)"
      ],
      "metadata": {
        "colab": {
          "base_uri": "https://localhost:8080/"
        },
        "id": "aEN0GgIKLCDY",
        "outputId": "59d0dcd1-7336-4d94-a05e-35688b85a942"
      },
      "execution_count": 16,
      "outputs": [
        {
          "output_type": "execute_result",
          "data": {
            "text/plain": [
              "True"
            ]
          },
          "metadata": {},
          "execution_count": 16
        }
      ]
    },
    {
      "cell_type": "markdown",
      "source": [
        "### Defaultdict"
      ],
      "metadata": {
        "id": "gpNb1Df3I-Xn"
      }
    },
    {
      "cell_type": "markdown",
      "source": [
        "We need to count words"
      ],
      "metadata": {
        "id": "mjk1Zmf5McSw"
      }
    },
    {
      "cell_type": "code",
      "source": [
        "from collections import defaultdict"
      ],
      "metadata": {
        "id": "3DdEgATpMbOG"
      },
      "execution_count": 25,
      "outputs": []
    },
    {
      "cell_type": "code",
      "source": [
        "dd_list = defaultdict(list) # list() produces an empty list\n",
        "dd_list[2].append(1) # now dd_list contains {2: [1]}\n",
        "dd_list"
      ],
      "metadata": {
        "colab": {
          "base_uri": "https://localhost:8080/"
        },
        "id": "WBMckjL4Mn3w",
        "outputId": "8d1368d8-b7e5-4204-abbf-14024755ccc1"
      },
      "execution_count": 27,
      "outputs": [
        {
          "output_type": "execute_result",
          "data": {
            "text/plain": [
              "defaultdict(list, {2: [1]})"
            ]
          },
          "metadata": {},
          "execution_count": 27
        }
      ]
    },
    {
      "cell_type": "code",
      "source": [
        "dd_dict = defaultdict(dict) # dict() produces an empty dict\n",
        "dd_dict[\"Joel\"][\"City\"] = \"Seattle\" # {\"Joel\" : {\"City\": Seattle\"}}\n",
        "dd_dict"
      ],
      "metadata": {
        "colab": {
          "base_uri": "https://localhost:8080/"
        },
        "id": "A2b9K9AOMxsT",
        "outputId": "56cf07ba-810b-4f0b-e3cf-5a6275b13fe8"
      },
      "execution_count": 28,
      "outputs": [
        {
          "output_type": "execute_result",
          "data": {
            "text/plain": [
              "defaultdict(dict, {'Joel': {'City': 'Seattle'}})"
            ]
          },
          "metadata": {},
          "execution_count": 28
        }
      ]
    },
    {
      "cell_type": "code",
      "source": [
        "dd_pair = defaultdict(lambda: [0, 0])\n",
        "dd_pair[2][1] = 1 # now dd_pair contains {2: [0, 1]}\n",
        "dd_pair"
      ],
      "metadata": {
        "colab": {
          "base_uri": "https://localhost:8080/"
        },
        "id": "icjDax_ONEpI",
        "outputId": "4e7e9c2c-5599-494c-94c5-8f7690cb6a83"
      },
      "execution_count": 29,
      "outputs": [
        {
          "output_type": "execute_result",
          "data": {
            "text/plain": [
              "defaultdict(<function __main__.<lambda>()>, {2: [0, 1]})"
            ]
          },
          "metadata": {},
          "execution_count": 29
        }
      ]
    },
    {
      "cell_type": "code",
      "source": [],
      "metadata": {
        "id": "FDcGqvnrNHip"
      },
      "execution_count": null,
      "outputs": []
    }
  ]
}