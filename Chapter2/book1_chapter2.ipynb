{
  "nbformat": 4,
  "nbformat_minor": 0,
  "metadata": {
    "colab": {
      "provenance": [],
      "toc_visible": true,
      "authorship_tag": "ABX9TyPH+KhQc2fcjkTJ8r770NxV",
      "include_colab_link": true
    },
    "kernelspec": {
      "name": "python3",
      "display_name": "Python 3"
    },
    "language_info": {
      "name": "python"
    }
  },
  "cells": [
    {
      "cell_type": "markdown",
      "metadata": {
        "id": "view-in-github",
        "colab_type": "text"
      },
      "source": [
        "<a href=\"https://colab.research.google.com/github/Asuskf/introduction_dataScience_exercises/blob/main/Chapter2/book1_chapter2.ipynb\" target=\"_parent\"><img src=\"https://colab.research.google.com/assets/colab-badge.svg\" alt=\"Open In Colab\"/></a>"
      ]
    },
    {
      "cell_type": "markdown",
      "source": [
        "## **The Zen of Python**\n",
        "### Best practices for programming in **Python**\n",
        "\n"
      ],
      "metadata": {
        "id": "JqIifxtXpJck"
      }
    },
    {
      "cell_type": "code",
      "execution_count": 1,
      "metadata": {
        "colab": {
          "base_uri": "https://localhost:8080/"
        },
        "id": "Kem8MSw7oH_P",
        "outputId": "94bbef3f-c44f-4afa-c6cc-6ed408aa8b56"
      },
      "outputs": [
        {
          "output_type": "stream",
          "name": "stdout",
          "text": [
            "The Zen of Python, by Tim Peters\n",
            "\n",
            "Beautiful is better than ugly.\n",
            "Explicit is better than implicit.\n",
            "Simple is better than complex.\n",
            "Complex is better than complicated.\n",
            "Flat is better than nested.\n",
            "Sparse is better than dense.\n",
            "Readability counts.\n",
            "Special cases aren't special enough to break the rules.\n",
            "Although practicality beats purity.\n",
            "Errors should never pass silently.\n",
            "Unless explicitly silenced.\n",
            "In the face of ambiguity, refuse the temptation to guess.\n",
            "There should be one-- and preferably only one --obvious way to do it.\n",
            "Although that way may not be obvious at first unless you're Dutch.\n",
            "Now is better than never.\n",
            "Although never is often better than *right* now.\n",
            "If the implementation is hard to explain, it's a bad idea.\n",
            "If the implementation is easy to explain, it may be a good idea.\n",
            "Namespaces are one honking great idea -- let's do more of those!\n"
          ]
        }
      ],
      "source": [
        "import this"
      ]
    },
    {
      "cell_type": "markdown",
      "source": [
        "### **Book1 - exercise 2 part1**\n",
        "\n",
        "*   Whitespace Formatting\n",
        "*   Modules\n",
        "\n"
      ],
      "metadata": {
        "id": "Eag1GLCGqqBx"
      }
    },
    {
      "cell_type": "markdown",
      "source": [
        "#### Whitespace Formatting\n",
        "*Notes:*\n",
        "*    The sign # is used for comments in **Python**\n",
        "*    Whitespace is ignored inside parentheses and brackets, which can be helpful for longwinded computations:"
      ],
      "metadata": {
        "id": "Y8uVrI0es3ke"
      }
    },
    {
      "cell_type": "code",
      "source": [
        "# The pound sign marks the start of a comment. Python itself\n",
        "# ignores the comments, but they're helpful for anyone reading the code.\n",
        "for i in [1, 2, 3, 4, 5]:\n",
        "    print(i)                    # first line in \"for i\" block\n",
        "    for j in [1, 2, 3, 4, 5]:\n",
        "        print(\"j\", j)                # first line in \"for j\" block\n",
        "        print(\"plus\",i + j)            # last line in \"for j\" block\n",
        "        print(\"i\", i)                # last line in \"for i\" block\n",
        "print(\"done looping\")"
      ],
      "metadata": {
        "id": "Wt-S_DZRqo_Y",
        "outputId": "52ca9497-bc20-4b6b-b70c-fca064876490",
        "colab": {
          "base_uri": "https://localhost:8080/"
        }
      },
      "execution_count": 40,
      "outputs": [
        {
          "output_type": "stream",
          "name": "stdout",
          "text": [
            "1\n",
            "j 1\n",
            "plus 2\n",
            "i 1\n",
            "j 2\n",
            "plus 3\n",
            "i 1\n",
            "j 3\n",
            "plus 4\n",
            "i 1\n",
            "j 4\n",
            "plus 5\n",
            "i 1\n",
            "j 5\n",
            "plus 6\n",
            "i 1\n",
            "2\n",
            "j 1\n",
            "plus 3\n",
            "i 2\n",
            "j 2\n",
            "plus 4\n",
            "i 2\n",
            "j 3\n",
            "plus 5\n",
            "i 2\n",
            "j 4\n",
            "plus 6\n",
            "i 2\n",
            "j 5\n",
            "plus 7\n",
            "i 2\n",
            "3\n",
            "j 1\n",
            "plus 4\n",
            "i 3\n",
            "j 2\n",
            "plus 5\n",
            "i 3\n",
            "j 3\n",
            "plus 6\n",
            "i 3\n",
            "j 4\n",
            "plus 7\n",
            "i 3\n",
            "j 5\n",
            "plus 8\n",
            "i 3\n",
            "4\n",
            "j 1\n",
            "plus 5\n",
            "i 4\n",
            "j 2\n",
            "plus 6\n",
            "i 4\n",
            "j 3\n",
            "plus 7\n",
            "i 4\n",
            "j 4\n",
            "plus 8\n",
            "i 4\n",
            "j 5\n",
            "plus 9\n",
            "i 4\n",
            "5\n",
            "j 1\n",
            "plus 6\n",
            "i 5\n",
            "j 2\n",
            "plus 7\n",
            "i 5\n",
            "j 3\n",
            "plus 8\n",
            "i 5\n",
            "j 4\n",
            "plus 9\n",
            "i 5\n",
            "j 5\n",
            "plus 10\n",
            "i 5\n",
            "done looping\n"
          ]
        }
      ]
    },
    {
      "cell_type": "code",
      "source": [
        "long_winded_computation = (1 + 2 + 3 + 4 + 5 + 6 + 7 + 8 + 9 + 10 + 11 + 12 + 13 + 14 + 15 + 16 + 17 + 18 + 19 + 20)\n",
        "long_winded_computation"
      ],
      "metadata": {
        "colab": {
          "base_uri": "https://localhost:8080/"
        },
        "id": "tkvlQGyktaaa",
        "outputId": "ae086470-3230-4877-f0ee-1cdbb83fa691"
      },
      "execution_count": 7,
      "outputs": [
        {
          "output_type": "execute_result",
          "data": {
            "text/plain": [
              "210"
            ]
          },
          "metadata": {},
          "execution_count": 7
        }
      ]
    },
    {
      "cell_type": "markdown",
      "source": [
        "\n",
        "##### Tips for whitespace Formatting"
      ],
      "metadata": {
        "id": "BguDAiRpsE_H"
      }
    },
    {
      "cell_type": "code",
      "source": [
        "# Easier to read\n",
        "# Bad\n",
        "list_of_lists = [[1, 2, 3], [4, 5, 6], [7, 8, 9]]\n",
        "\n",
        "# Better\n",
        "easier_to_read_list_of_lists = [[1, 2, 3],\n",
        "                                [4, 5, 6],\n",
        "                                [7, 8, 9]]"
      ],
      "metadata": {
        "id": "IAdiqjzcpUhc"
      },
      "execution_count": 8,
      "outputs": []
    },
    {
      "cell_type": "code",
      "source": [
        "two_plus_three = 2 + \\\n",
        "                 3"
      ],
      "metadata": {
        "id": "lQlJCbPAuLv-"
      },
      "execution_count": 10,
      "outputs": []
    },
    {
      "cell_type": "code",
      "source": [
        "two_plus_three"
      ],
      "metadata": {
        "colab": {
          "base_uri": "https://localhost:8080/"
        },
        "id": "VjhRUsCMlxRI",
        "outputId": "5b1cdce8-324f-4f9d-ffb9-20263d9f2fbb"
      },
      "execution_count": 11,
      "outputs": [
        {
          "output_type": "execute_result",
          "data": {
            "text/plain": [
              "5"
            ]
          },
          "metadata": {},
          "execution_count": 11
        }
      ]
    },
    {
      "cell_type": "code",
      "source": [
        "for i in [1, 2, 3, 4, 5]:\n",
        " # notice the blank line\n",
        " print(i)"
      ],
      "metadata": {
        "colab": {
          "base_uri": "https://localhost:8080/"
        },
        "id": "va7dqe7pl1hR",
        "outputId": "b16b36ef-db62-4f22-e33b-b878c068e092"
      },
      "execution_count": 12,
      "outputs": [
        {
          "output_type": "stream",
          "name": "stdout",
          "text": [
            "1\n",
            "2\n",
            "3\n",
            "4\n",
            "5\n"
          ]
        }
      ]
    },
    {
      "cell_type": "markdown",
      "source": [
        "#### Modules (features)\n",
        "* There are modules that you need to install.\n",
        "* Others you need to call with **import**\n",
        "* Others are loaded by default"
      ],
      "metadata": {
        "id": "j684gFN0mGLl"
      }
    },
    {
      "cell_type": "markdown",
      "source": [
        "##### Modules that you need to call"
      ],
      "metadata": {
        "id": "qaUykBoKnr63"
      }
    },
    {
      "cell_type": "code",
      "source": [
        "# Modules that you need to call\n",
        "import re\n",
        "\n",
        "# regular expressions\n",
        "my_regex = re.compile(\"[0-9]\", re.I)"
      ],
      "metadata": {
        "id": "p6typrLPl6-h"
      },
      "execution_count": 13,
      "outputs": []
    },
    {
      "cell_type": "code",
      "source": [
        "# Modules that you need to call with nickname\n",
        "import re as regex\n",
        "my_regex = regex.compile(\"[0-9]+\", regex.I)"
      ],
      "metadata": {
        "id": "5SYaCwp3nZh6"
      },
      "execution_count": 14,
      "outputs": []
    },
    {
      "cell_type": "code",
      "source": [
        "from collections import defaultdict, Counter\n",
        "lookup = defaultdict(int)\n",
        "my_counter = Counter()"
      ],
      "metadata": {
        "id": "HAmC6nsvnp0q"
      },
      "execution_count": 31,
      "outputs": []
    },
    {
      "cell_type": "code",
      "source": [
        "lookup"
      ],
      "metadata": {
        "colab": {
          "base_uri": "https://localhost:8080/"
        },
        "id": "a3edTaOAoUVI",
        "outputId": "3f24193f-fa59-4407-f271-db4dad9ab7d0"
      },
      "execution_count": 32,
      "outputs": [
        {
          "output_type": "execute_result",
          "data": {
            "text/plain": [
              "defaultdict(int, {})"
            ]
          },
          "metadata": {},
          "execution_count": 32
        }
      ]
    },
    {
      "cell_type": "code",
      "source": [
        "lookup[\"s\"]"
      ],
      "metadata": {
        "colab": {
          "base_uri": "https://localhost:8080/"
        },
        "id": "EofkJ5GKpD-K",
        "outputId": "8e68216e-4ef5-4296-cb75-e3b6691867ae"
      },
      "execution_count": 36,
      "outputs": [
        {
          "output_type": "execute_result",
          "data": {
            "text/plain": [
              "0"
            ]
          },
          "metadata": {},
          "execution_count": 36
        }
      ]
    },
    {
      "cell_type": "code",
      "source": [
        "my_counter.update([1,2,2,3,1])"
      ],
      "metadata": {
        "id": "ljwJsNktoYO_"
      },
      "execution_count": 37,
      "outputs": []
    },
    {
      "cell_type": "code",
      "source": [
        "my_counter"
      ],
      "metadata": {
        "colab": {
          "base_uri": "https://localhost:8080/"
        },
        "id": "dWI2EsOJqlvl",
        "outputId": "f57a5433-6967-48ba-e26d-0abde01a08a4"
      },
      "execution_count": 38,
      "outputs": [
        {
          "output_type": "execute_result",
          "data": {
            "text/plain": [
              "Counter({1: 4, 2: 4, 3: 2})"
            ]
          },
          "metadata": {},
          "execution_count": 38
        }
      ]
    },
    {
      "cell_type": "markdown",
      "source": [
        "##### Mistake"
      ],
      "metadata": {
        "id": "zXVoCgIMn8HW"
      }
    },
    {
      "cell_type": "code",
      "source": [
        "match = 10\n",
        "from re import * # uh oh, re has a match function\n",
        "print(match) # \"<function match at 0x10281e6a8>\""
      ],
      "metadata": {
        "colab": {
          "base_uri": "https://localhost:8080/"
        },
        "id": "hBhVrXs8rdho",
        "outputId": "0a764b5f-3f5f-421c-a010-c5ad1026fb50"
      },
      "execution_count": 39,
      "outputs": [
        {
          "output_type": "stream",
          "name": "stdout",
          "text": [
            "<function match at 0x7fac6c3eda20>\n"
          ]
        }
      ]
    },
    {
      "cell_type": "markdown",
      "source": [
        "### **Book1 - exercise 2 part2**\n",
        "*   Functions\n"
      ],
      "metadata": {
        "id": "aIZcYD09r6P2"
      }
    },
    {
      "cell_type": "code",
      "source": [],
      "metadata": {
        "id": "4jZMT88Erd3r"
      },
      "execution_count": null,
      "outputs": []
    }
  ]
}